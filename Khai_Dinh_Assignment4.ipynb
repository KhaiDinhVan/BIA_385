{
 "cells": [
  {
   "cell_type": "code",
   "execution_count": 3,
   "id": "e65b92e6",
   "metadata": {},
   "outputs": [
    {
     "data": {
      "text/plain": [
       "'C:\\\\Users\\\\dinhv'"
      ]
     },
     "execution_count": 3,
     "metadata": {},
     "output_type": "execute_result"
    }
   ],
   "source": [
    "import os\n",
    "os.getcwd()"
   ]
  },
  {
   "cell_type": "code",
   "execution_count": 3,
   "id": "f9dda1e5",
   "metadata": {},
   "outputs": [
    {
     "name": "stderr",
     "output_type": "stream",
     "text": [
      "<ipython-input-3-5c759109ad81>:14: SettingWithCopyWarning: \n",
      "A value is trying to be set on a copy of a slice from a DataFrame.\n",
      "Try using .loc[row_indexer,col_indexer] = value instead\n",
      "\n",
      "See the caveats in the documentation: https://pandas.pydata.org/pandas-docs/stable/user_guide/indexing.html#returning-a-view-versus-a-copy\n",
      "  new_nobel[\"Age\"] = 60\n",
      "<ipython-input-3-5c759109ad81>:19: SettingWithCopyWarning: \n",
      "A value is trying to be set on a copy of a slice from a DataFrame.\n",
      "Try using .loc[row_indexer,col_indexer] = value instead\n",
      "\n",
      "See the caveats in the documentation: https://pandas.pydata.org/pandas-docs/stable/user_guide/indexing.html#returning-a-view-versus-a-copy\n",
      "  new_nobel[\"Birth Date\"] = new_nobel[\"Birth Date\"].dropna(0)\n",
      "<ipython-input-3-5c759109ad81>:21: SettingWithCopyWarning: \n",
      "A value is trying to be set on a copy of a slice from a DataFrame.\n",
      "Try using .loc[row_indexer,col_indexer] = value instead\n",
      "\n",
      "See the caveats in the documentation: https://pandas.pydata.org/pandas-docs/stable/user_guide/indexing.html#returning-a-view-versus-a-copy\n",
      "  new_nobel[\"Born Date\"] = new_nobel[\"Birth Date\"].str[:4]\n",
      "<ipython-input-3-5c759109ad81>:22: SettingWithCopyWarning: \n",
      "A value is trying to be set on a copy of a slice from a DataFrame.\n",
      "Try using .loc[row_indexer,col_indexer] = value instead\n",
      "\n",
      "See the caveats in the documentation: https://pandas.pydata.org/pandas-docs/stable/user_guide/indexing.html#returning-a-view-versus-a-copy\n",
      "  new_nobel[\"Real Age\"] = new_nobel[\"Year\"] - pd.to_numeric(new_nobel[\"Born Date\"])\n"
     ]
    },
    {
     "data": {
      "text/plain": [
       "Individual      939\n",
       "Organization     30\n",
       "Name: Laureate Type, dtype: int64"
      ]
     },
     "execution_count": 3,
     "metadata": {},
     "output_type": "execute_result"
    }
   ],
   "source": [
    "import pandas as pd\n",
    "import numpy as np\n",
    "nobel = pd.read_csv(\"nobel.csv\")\n",
    "#1a.\n",
    "selected_nobel_col = [\"Year\",\"Category\",\"Prize\",\"Motivation\",\"Laureate Type\",\"Full Name\",\"Birth Date\",\"Birth Country\",\"Birth City\",\"Sex\",\"Death Date\"]\n",
    "new_nobel = nobel[selected_nobel_col]\n",
    "\n",
    "#1b. \n",
    "\n",
    "new_nobel[\"Laureate Type\"].value_counts()\n",
    "\n",
    "#1c. Adding the “Age” column\n",
    "\n",
    "new_nobel[\"Age\"] = 60\n",
    "\n",
    "#1d.\n",
    "\n",
    "\n",
    "new_nobel[\"Birth Date\"] = new_nobel[\"Birth Date\"].dropna(0)\n",
    "\n",
    "new_nobel[\"Born Date\"] = new_nobel[\"Birth Date\"].str[:4]\n",
    "new_nobel[\"Real Age\"] = new_nobel[\"Year\"] - pd.to_numeric(new_nobel[\"Born Date\"])\n",
    "new_nobel.head(n = 30)\n",
    "\n",
    "#1e.\n",
    "new_nobel.drop(columns = \"Age\", axis = 1, inplace = True)\n",
    "\n",
    "#1f \n",
    "new_nobel[\"Real Age\"].describe()\n"
   ]
  },
  {
   "cell_type": "code",
   "execution_count": 88,
   "id": "c42c18b3",
   "metadata": {
    "scrolled": true
   },
   "outputs": [
    {
     "ename": "TypeError",
     "evalue": "'numpy.ndarray' object is not callable",
     "output_type": "error",
     "traceback": [
      "\u001b[1;31m---------------------------------------------------------------------------\u001b[0m",
      "\u001b[1;31mTypeError\u001b[0m                                 Traceback (most recent call last)",
      "\u001b[1;32m<ipython-input-88-59981ce13b83>\u001b[0m in \u001b[0;36m<module>\u001b[1;34m\u001b[0m\n\u001b[0;32m     10\u001b[0m \u001b[1;31m#2b.\u001b[0m\u001b[1;33m\u001b[0m\u001b[1;33m\u001b[0m\u001b[1;33m\u001b[0m\u001b[0m\n\u001b[0;32m     11\u001b[0m \u001b[1;31m#Jonas Jerebko\u001b[0m\u001b[1;33m\u001b[0m\u001b[1;33m\u001b[0m\u001b[1;33m\u001b[0m\u001b[0m\n\u001b[1;32m---> 12\u001b[1;33m \u001b[0mnba_series\u001b[0m\u001b[1;33m.\u001b[0m\u001b[0mvalues\u001b[0m\u001b[1;33m(\u001b[0m\u001b[1;36m5000000\u001b[0m\u001b[1;33m)\u001b[0m\u001b[1;33m\u001b[0m\u001b[1;33m\u001b[0m\u001b[0m\n\u001b[0m\u001b[0;32m     13\u001b[0m \u001b[1;33m\u001b[0m\u001b[0m\n\u001b[0;32m     14\u001b[0m \u001b[1;33m\u001b[0m\u001b[0m\n",
      "\u001b[1;31mTypeError\u001b[0m: 'numpy.ndarray' object is not callable"
     ]
    }
   ],
   "source": [
    "#2\n",
    "import pandas as pd\n",
    "import numpy as np\n",
    "nba_series = pd.read_csv(\"nba.csv\", usecols = [\"Salary\", \"Name\"], index_col = \"Name\", squeeze = True)\n",
    "nba_series.head()\n",
    "\n",
    "#2a.\n",
    "#John Holland: The Salary is NaN\n",
    "nba_series.loc[['John Holland']]\n",
    "#2b.\n",
    "#Jonas Jerebko\n",
    "nba_series.values(5000000)\n",
    "\n",
    "\n",
    "\n",
    "\n",
    "\n",
    "#2c. \n",
    "\n",
    "def reports(result):\n",
    "    mean = nba_series.mean(axis = 0)\n",
    "    if result < mean:\n",
    "        result = 'Below average'\n",
    "    elif result > mean:\n",
    "        result = 'Above average'\n",
    "    elif result == mean:\n",
    "        result = 'Average salary'\n",
    "    else:\n",
    "        result = 'No salary reported'\n",
    "    return result\n",
    "\n",
    "nba_series.apply(reports)\n",
    "\n",
    "\n"
   ]
  },
  {
   "cell_type": "code",
   "execution_count": 6,
   "id": "596d6e92",
   "metadata": {},
   "outputs": [
    {
     "data": {
      "text/plain": [
       "pandas.core.series.Series"
      ]
     },
     "execution_count": 6,
     "metadata": {},
     "output_type": "execute_result"
    }
   ],
   "source": [
    "#3\n",
    "#3a. \n",
    "#We could use both the Imputation Using Deep Learning (Datawig) \n",
    "#or the Imputation Using (Most Frequent) as these two support categorical features well. \n",
    "#However, Imputation Using (Most Frequent) might have the advantage over multiple categorical columns, large data sets, and under time constaint.\n",
    "\n",
    "#3b.\n",
    "#k-NN is sensitive to outliers\n",
    "#Imputation by Chained Equation (MICE) fill missing data multiple times using differentvariable and data types arcoss all colums. (Check)\n",
    "\n",
    "#3c. \n",
    "#Pro: Work well with categorical colums \n",
    "#Con: do not factor in correlation between columns when filling missing data\n",
    "#Can make the data be bias"
   ]
  },
  {
   "cell_type": "code",
   "execution_count": null,
   "id": "9dfb1668",
   "metadata": {},
   "outputs": [],
   "source": []
  },
  {
   "cell_type": "code",
   "execution_count": 87,
   "id": "2e153c1e",
   "metadata": {},
   "outputs": [
    {
     "name": "stdout",
     "output_type": "stream",
     "text": [
      "<class 'pandas.core.frame.DataFrame'>\n",
      "Int64Index: 366 entries, 158 to 385\n",
      "Data columns (total 9 columns):\n",
      " #   Column    Non-Null Count  Dtype   \n",
      "---  ------    --------------  -----   \n",
      " 0   Name      365 non-null    object  \n",
      " 1   Team      365 non-null    category\n",
      " 2   Number    366 non-null    int32   \n",
      " 3   Position  365 non-null    object  \n",
      " 4   Age       365 non-null    float64 \n",
      " 5   Height    365 non-null    object  \n",
      " 6   Weight    365 non-null    float64 \n",
      " 7   College   366 non-null    object  \n",
      " 8   Salary    366 non-null    int32   \n",
      "dtypes: category(1), float64(2), int32(2), object(4)\n",
      "memory usage: 24.5+ KB\n",
      "Average salary for age group under 25: 2689449.593220339\n",
      "Average salary for age group between 25 and 35: 6755504.967213115\n",
      "Average salary for age group under 25: 4115227.0\n",
      "Therefore, age group between 25 and 35 has the highest average salary in every sample: 6755504.967213115\n"
     ]
    }
   ],
   "source": [
    "#4\n",
    "import pandas as pd\n",
    "import numpy as np\n",
    "nba = pd.read_csv(\"nba.csv\")\n",
    "nba.head()\n",
    "\n",
    "#4a.\n",
    "nba_sample = nba.sample(frac=.8)\n",
    "nba_sample.info()\n",
    "\n",
    "#4b. \n",
    "nba_sample.isna().sum()\n",
    "#4c.\n",
    "nba_sample.dropna(axis = 1, how = 'all', inplace = True)\n",
    "#4d. \n",
    "nba_sample['College'].fillna(nba_sample['College'].value_counts().index[0], inplace = True)\n",
    "nba_sample['Salary'].fillna(nba_sample['Salary'].mean(), inplace = True)\n",
    "#4e.\n",
    "nba_sample['Salary'] = nba_sample['Salary'].astype(\"int\")\n",
    "#fill na value in number column \n",
    "nba_sample['Number'].fillna(nba_sample['Number'].value_counts().index[0], inplace = True)\n",
    "nba_sample['Number'] = nba_sample['Number'].astype(\"int\")\n",
    "\n",
    "#4f.\n",
    "nba_sample['Position'].value_counts()\n",
    "nba_sample['Position'] = nba_sample['Position'].astype(\"object\")\n",
    "#4g.\n",
    "nba_sample['Team'].value_counts()\n",
    "nba_sample['Team'] = nba_sample['Team'].astype(\"category\")\n",
    "#4h. \n",
    "nba_sample.info()\n",
    "# Memory usage in the begining: 28.6 KB\n",
    "# Memory usage in the the end: 24.5 KB\n",
    "# I think the biggest change was I fill the na values in college to the most frequent name and in salary I change to the average values. Dropping all non columns and change types to integer helps reduce storage too. \n",
    "#4i\n",
    "\n",
    "Mask = nba_sample[\"Age\"] < 25\n",
    "Mask1 = nba_sample[\"Age\"] > 25\n",
    "Mask2 = nba_sample[\"Age\"] < 35\n",
    "Mask3 = nba_sample[\"Age\"] > 35 \n",
    "\n",
    "Under_25 = nba_sample[Mask][\"Salary\"].mean()\n",
    "Bet_25_35 = nba_sample[Mask1 & Mask2][\"Salary\"].mean()\n",
    "Over_35 = nba_sample[Mask3][\"Salary\"].mean()\n",
    "\n",
    "print('Average salary for age group under 25:', Under_25)\n",
    "print('Average salary for age group between 25 and 35:', Bet_25_35)\n",
    "print('Average salary for age group under 25:', Over_35)\n",
    "print('Therefore, age group between 25 and 35 has the highest average salary in every sample:', Bet_25_35)"
   ]
  },
  {
   "cell_type": "code",
   "execution_count": 72,
   "id": "e38992b5",
   "metadata": {},
   "outputs": [],
   "source": []
  },
  {
   "cell_type": "code",
   "execution_count": null,
   "id": "02049274",
   "metadata": {},
   "outputs": [],
   "source": []
  },
  {
   "cell_type": "code",
   "execution_count": null,
   "id": "8e06bff3",
   "metadata": {},
   "outputs": [],
   "source": []
  }
 ],
 "metadata": {
  "kernelspec": {
   "display_name": "Python 3",
   "language": "python",
   "name": "python3"
  },
  "language_info": {
   "codemirror_mode": {
    "name": "ipython",
    "version": 3
   },
   "file_extension": ".py",
   "mimetype": "text/x-python",
   "name": "python",
   "nbconvert_exporter": "python",
   "pygments_lexer": "ipython3",
   "version": "3.8.8"
  }
 },
 "nbformat": 4,
 "nbformat_minor": 5
}
