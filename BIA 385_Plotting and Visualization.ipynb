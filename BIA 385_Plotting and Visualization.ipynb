{
 "cells": [
  {
   "cell_type": "markdown",
   "metadata": {},
   "source": [
    "# Plotting"
   ]
  },
  {
   "cell_type": "code",
   "execution_count": 1,
   "metadata": {},
   "outputs": [],
   "source": [
    "import pandas as pd"
   ]
  },
  {
   "cell_type": "code",
   "execution_count": 2,
   "metadata": {},
   "outputs": [],
   "source": [
    "# read Temperature dataset# \n",
    "# it shows average temp in midwest per months for years 2015-2019 (not a real dataset)\n",
    "temps = pd.read_csv('Temperature.csv')"
   ]
  },
  {
   "cell_type": "code",
   "execution_count": 3,
   "metadata": {},
   "outputs": [
    {
     "data": {
      "text/html": [
       "<div>\n",
       "<style scoped>\n",
       "    .dataframe tbody tr th:only-of-type {\n",
       "        vertical-align: middle;\n",
       "    }\n",
       "\n",
       "    .dataframe tbody tr th {\n",
       "        vertical-align: top;\n",
       "    }\n",
       "\n",
       "    .dataframe thead th {\n",
       "        text-align: right;\n",
       "    }\n",
       "</style>\n",
       "<table border=\"1\" class=\"dataframe\">\n",
       "  <thead>\n",
       "    <tr style=\"text-align: right;\">\n",
       "      <th></th>\n",
       "      <th>Temperature</th>\n",
       "    </tr>\n",
       "  </thead>\n",
       "  <tbody>\n",
       "    <tr>\n",
       "      <th>0</th>\n",
       "      <td>30</td>\n",
       "    </tr>\n",
       "    <tr>\n",
       "      <th>1</th>\n",
       "      <td>25</td>\n",
       "    </tr>\n",
       "    <tr>\n",
       "      <th>2</th>\n",
       "      <td>45</td>\n",
       "    </tr>\n",
       "    <tr>\n",
       "      <th>3</th>\n",
       "      <td>50</td>\n",
       "    </tr>\n",
       "    <tr>\n",
       "      <th>4</th>\n",
       "      <td>60</td>\n",
       "    </tr>\n",
       "  </tbody>\n",
       "</table>\n",
       "</div>"
      ],
      "text/plain": [
       "   Temperature\n",
       "0           30\n",
       "1           25\n",
       "2           45\n",
       "3           50\n",
       "4           60"
      ]
     },
     "execution_count": 3,
     "metadata": {},
     "output_type": "execute_result"
    }
   ],
   "source": [
    "# see the first 5 row of the dataset \n",
    "temps.head()"
   ]
  },
  {
   "cell_type": "code",
   "execution_count": 5,
   "metadata": {},
   "outputs": [
    {
     "data": {
      "image/png": "[encoded data removed]",
      "text/plain": [
       "<Figure size 432x288 with 1 Axes>"
      ]
     },
     "metadata": {
      "needs_background": "light"
     },
     "output_type": "display_data"
    }
   ],
   "source": [
    "# plotting temperature against months \n",
    "\n",
    "# import matplotlib\n",
    "import matplotlib.pyplot as plt\n",
    "\n",
    "# reating the month vector\n",
    "months = range(1, 13)\n",
    "\n",
    "#plotting\n",
    "plt.plot(months, temps)\n",
    "plt.show()\n"
   ]
  },
  {
   "cell_type": "markdown",
   "metadata": {},
   "source": [
    "# Drawing two line plots in one graph"
   ]
  },
  {
   "cell_type": "code",
   "execution_count": 9,
   "metadata": {},
   "outputs": [
    {
     "data": {
      "text/html": [
       "<div>\n",
       "<style>\n",
       "    .dataframe thead tr:only-child th {\n",
       "        text-align: right;\n",
       "    }\n",
       "\n",
       "    .dataframe thead th {\n",
       "        text-align: left;\n",
       "    }\n",
       "\n",
       "    .dataframe tbody tr th {\n",
       "        vertical-align: top;\n",
       "    }\n",
       "</style>\n",
       "<table border=\"1\" class=\"dataframe\">\n",
       "  <thead>\n",
       "    <tr style=\"text-align: right;\">\n",
       "      <th></th>\n",
       "      <th>People</th>\n",
       "    </tr>\n",
       "  </thead>\n",
       "  <tbody>\n",
       "    <tr>\n",
       "      <th>0</th>\n",
       "      <td>30</td>\n",
       "    </tr>\n",
       "    <tr>\n",
       "      <th>1</th>\n",
       "      <td>37</td>\n",
       "    </tr>\n",
       "    <tr>\n",
       "      <th>2</th>\n",
       "      <td>28</td>\n",
       "    </tr>\n",
       "    <tr>\n",
       "      <th>3</th>\n",
       "      <td>20</td>\n",
       "    </tr>\n",
       "    <tr>\n",
       "      <th>4</th>\n",
       "      <td>15</td>\n",
       "    </tr>\n",
       "  </tbody>\n",
       "</table>\n",
       "</div>"
      ],
      "text/plain": [
       "   People\n",
       "0      30\n",
       "1      37\n",
       "2      28\n",
       "3      20\n",
       "4      15"
      ]
     },
     "execution_count": 9,
     "metadata": {},
     "output_type": "execute_result"
    }
   ],
   "source": [
    "# Read the second dataset \n",
    "# Hypothetically, it shows the average percent of people who got flue in midewest in each month during 2015-2019\n",
    "\n",
    "Flu = pd.read_csv('Flu.csv')\n",
    "Flu.head()"
   ]
  },
  {
   "cell_type": "code",
   "execution_count": 10,
   "metadata": {},
   "outputs": [
    {
     "data": {
      "image/png": "[encoded data removed]",
      "text/plain": [
       "<matplotlib.figure.Figure at 0x9a92f60>"
      ]
     },
     "metadata": {},
     "output_type": "display_data"
    }
   ],
   "source": [
    "# matplotlib.pyplot is already loaded\n",
    "\n",
    "# reating the month vector\n",
    "months = range(1, 13)\n",
    "\n",
    "#first plot \n",
    "plt.plot(months, temps)\n",
    "\n",
    "# second plot\n",
    "plt.plot(months, Flu)\n",
    "\n",
    "plt.show()\n",
    "\n"
   ]
  },
  {
   "cell_type": "markdown",
   "metadata": {},
   "source": [
    "# Styling a plot"
   ]
  },
  {
   "cell_type": "code",
   "execution_count": 8,
   "metadata": {},
   "outputs": [
    {
     "data": {
      "image/png": "[encoded data removed]",
      "text/plain": [
       "<Figure size 432x288 with 1 Axes>"
      ]
     },
     "metadata": {
      "needs_background": "light"
     },
     "output_type": "display_data"
    }
   ],
   "source": [
    "# lets use red color using 'r' and daashed line '--', instead of a solid line --> add 'r--' to plot() method \n",
    "months = range(1, 13)\n",
    "\n",
    "#plotting\n",
    "plt.plot(months, temps, 'r--')\n",
    "plt.show()"
   ]
  },
  {
   "cell_type": "code",
   "execution_count": 17,
   "metadata": {},
   "outputs": [
    {
     "data": {
      "image/png": "[encoded data removed]",
      "text/plain": [
       "<matplotlib.figure.Figure at 0x9e29400>"
      ]
     },
     "metadata": {},
     "output_type": "display_data"
    }
   ],
   "source": [
    "months = range(1, 13)\n",
    "\n",
    "#first plot \n",
    "plt.plot(months, temps, 'r--')\n",
    "\n",
    "# second plot\n",
    "plt.plot(months, Flu, 'b+')\n",
    "\n",
    "plt.show()"
   ]
  },
  {
   "cell_type": "markdown",
   "metadata": {},
   "source": [
    "# Adding Title, X labl and Y label"
   ]
  },
  {
   "cell_type": "code",
   "execution_count": 9,
   "metadata": {},
   "outputs": [
    {
     "data": {
      "image/png": "[encoded data removed]",
      "text/plain": [
       "<Figure size 432x288 with 1 Axes>"
      ]
     },
     "metadata": {
      "needs_background": "light"
     },
     "output_type": "display_data"
    }
   ],
   "source": [
    "import matplotlib.pyplot as plt\n",
    "temps = pd.read_csv('Temperature.csv')\n",
    "months = range(1, 13)\n",
    "\n",
    "#plotting\n",
    "plt.plot(months, temps, 'r--')\n",
    "plt.title('Average Temperature During 2015-2019')\n",
    "plt.xlabel('Months')\n",
    "plt.ylabel('Average Temperature')\n",
    "\n",
    "\n",
    "plt.show()\n",
    "\n",
    "# we can also use, plt.legend(), plt.text() and plt.annotate() to create a legend, create a text lable or create a text label for a specific data point\n"
   ]
  },
  {
   "cell_type": "markdown",
   "metadata": {
    "collapsed": true
   },
   "source": [
    "# Multiple Figures"
   ]
  },
  {
   "cell_type": "code",
   "execution_count": 10,
   "metadata": {},
   "outputs": [
    {
     "data": {
      "image/png": "[encoded data removed]",
      "text/plain": [
       "<Figure size 432x288 with 1 Axes>"
      ]
     },
     "metadata": {
      "needs_background": "light"
     },
     "output_type": "display_data"
    },
    {
     "data": {
      "image/png": "[encoded data removed]",
      "text/plain": [
       "<Figure size 432x288 with 1 Axes>"
      ]
     },
     "metadata": {
      "needs_background": "light"
     },
     "output_type": "display_data"
    }
   ],
   "source": [
    "# sometimes, we can have different plots in one graph and sometimes we can not;e.g., the X axis might be different for two plots\n",
    "#  The figure() function can be used to create multiple figures. \n",
    "# we have already imported the required packages\n",
    "\n",
    "temps = pd.read_csv('Temperature.csv')\n",
    "Flu = pd.read_csv('Flu.csv')\n",
    "months = range(1, 13)\n",
    "\n",
    "\n",
    "# Unique identifiers for each figure\n",
    "FIGURE1 = 1\n",
    "FIGURE2 = 2\n",
    "\n",
    "plt.figure(FIGURE1)\n",
    "plt.plot(months, temps)\n",
    "plt.xlabel(\"months\")\n",
    "plt.ylabel(\"Avergae Temp\")\n",
    "\n",
    "plt.figure(FIGURE2)\n",
    "plt.plot(months, Flu)\n",
    "plt.xlabel(\"months\")\n",
    "plt.ylabel(\"Percent of People with flu\")\n",
    "\n",
    "plt.show()"
   ]
  },
  {
   "cell_type": "markdown",
   "metadata": {},
   "source": [
    "# Subplot"
   ]
  },
  {
   "cell_type": "code",
   "execution_count": 11,
   "metadata": {},
   "outputs": [
    {
     "data": {
      "image/png": "[encoded data removed]",
      "text/plain": [
       "<Figure size 432x288 with 2 Axes>"
      ]
     },
     "metadata": {
      "needs_background": "light"
     },
     "output_type": "display_data"
    }
   ],
   "source": [
    "# The subplot() function allows multiple plots to be created in a single figure, with each subplot having its own set of axes. \n",
    "# Subplots are often preferable to multiple figures when related data is plotted.\n",
    "\n",
    "\n",
    "\n",
    "temps = pd.read_csv('Temperature.csv')\n",
    "Flu = pd.read_csv('Flu.csv')\n",
    "months = range(1, 13)\n",
    "\n",
    "\n",
    "# Unique identifiers for each figure\n",
    "#FIGURE1 = 1\n",
    "#FIGURE2 = 2\n",
    "\n",
    "plt.subplot(2, 1, 1)  # 2 rows, 1 column. Use loc 1\n",
    "plt.plot(months, temps)\n",
    "plt.xlabel(\"months\")\n",
    "plt.ylabel(\"Avergae Temp\")\n",
    "\n",
    "plt.subplot(2, 1, 2)  # 2 rows, 1 column. Use loc 2\n",
    "plt.plot(months, Flu)\n",
    "plt.xlabel(\"months\")\n",
    "plt.ylabel(\"Percent of People with flu\")\n",
    "\n",
    "plt.show()"
   ]
  },
  {
   "cell_type": "markdown",
   "metadata": {},
   "source": [
    "# Data Visualization"
   ]
  },
  {
   "cell_type": "code",
   "execution_count": 17,
   "metadata": {
    "collapsed": true
   },
   "outputs": [],
   "source": [
    "# Waht is Data?\n",
    "# Data is information, especially facts or numbers, usually collected or computed for purposes of analysis.\n",
    "\n",
    "# common sources of data: \n",
    "# Internet of Things (IoT), social networks (e.g., Twitter, FB, text messaging), Traditional Business Systems (e.g., Banking)\n",
    "\n",
    "# Data analytics is the field of analyzing data to gain insight, draw conclusions, or make decisions\n",
    "\n",
    "# Types of data analytics:\n",
    "# 1. Descriptive data analytics seeks to describe data, providing insight and knowledge\n",
    "# 2. Predictive data analytics seeks to make predictions from data. \n",
    "# 3. Prescriptive data analytics seeks to make decisions (prescriptions) based on data.\n",
    "\n",
    "\n",
    "# Types of Data: \n",
    "# 1. categorical or quaitative (e.g., gender, seasons)\n",
    "# 2. quantitative (e.g., year, age)\n",
    "\n",
    "\n",
    "# Types of Categorical Variables:\n",
    "# 1. Nominal: A nominal variable's categories have no ordering, existing in name only, like apples, oranges, and grapes\n",
    "# 2. Ordinal: An ordinal variable's categories have an ordering, like disagree, neutral, and agree.\n",
    "\n",
    "\n",
    "# Types of quantitative Variables:\n",
    "# 1. A continuous variable's values are infinite along a continuum of values within a range, typically real numbers.\n",
    "# 2. A discrete variable's values are finite within a range, typically integers.\n",
    "\n",
    "\n",
    "# knowing bout the data type helps to create appropriate graphs (e.g., with two quantitative variables, we can draw a scatter plot)\n",
    "\n",
    "\n",
    "# Conveyng informartion:\n",
    "# 1. Data presented in a text-only format often does not convey information well\n",
    "# 2. Data visualization; it is the display of data in a format, such as a table or chart, that seeks to achieve a goal of conveying particular information to a viewer. \n",
    "\n",
    "\n"
   ]
  },
  {
   "cell_type": "markdown",
   "metadata": {},
   "source": [
    "# DataFrame"
   ]
  },
  {
   "cell_type": "code",
   "execution_count": 13,
   "metadata": {},
   "outputs": [
    {
     "data": {
      "text/html": [
       "<div>\n",
       "<style scoped>\n",
       "    .dataframe tbody tr th:only-of-type {\n",
       "        vertical-align: middle;\n",
       "    }\n",
       "\n",
       "    .dataframe tbody tr th {\n",
       "        vertical-align: top;\n",
       "    }\n",
       "\n",
       "    .dataframe thead th {\n",
       "        text-align: right;\n",
       "    }\n",
       "</style>\n",
       "<table border=\"1\" class=\"dataframe\">\n",
       "  <thead>\n",
       "    <tr style=\"text-align: right;\">\n",
       "      <th></th>\n",
       "      <th>Year</th>\n",
       "      <th>Value</th>\n",
       "    </tr>\n",
       "  </thead>\n",
       "  <tbody>\n",
       "    <tr>\n",
       "      <th>0</th>\n",
       "      <td>1980</td>\n",
       "      <td>7.175</td>\n",
       "    </tr>\n",
       "    <tr>\n",
       "      <th>1</th>\n",
       "      <td>1981</td>\n",
       "      <td>7.617</td>\n",
       "    </tr>\n",
       "    <tr>\n",
       "      <th>2</th>\n",
       "      <td>1982</td>\n",
       "      <td>9.708</td>\n",
       "    </tr>\n",
       "    <tr>\n",
       "      <th>3</th>\n",
       "      <td>1983</td>\n",
       "      <td>9.600</td>\n",
       "    </tr>\n",
       "    <tr>\n",
       "      <th>4</th>\n",
       "      <td>1984</td>\n",
       "      <td>7.508</td>\n",
       "    </tr>\n",
       "  </tbody>\n",
       "</table>\n",
       "</div>"
      ],
      "text/plain": [
       "   Year  Value\n",
       "0  1980  7.175\n",
       "1  1981  7.617\n",
       "2  1982  9.708\n",
       "3  1983  9.600\n",
       "4  1984  7.508"
      ]
     },
     "execution_count": 13,
     "metadata": {},
     "output_type": "execute_result"
    }
   ],
   "source": [
    "# US Unemployment Rate  \n",
    "\n",
    "# imports the necessary modules\n",
    "import pandas as pd\n",
    "import matplotlib.pyplot as plt\n",
    "\n",
    "# loads the unemployment dataset\n",
    "unemployment = pd.read_csv('http://data-analytics.zybooks.com/unemployment.csv') # A DataFrame\n",
    "unemployment.head()\n",
    "\n",
    "# What is a dataframe?\n",
    "# A DataFrame, is a two-dimensional tabular data structure with labeled columns and rows. \n",
    "# Similar to spreadsheets, a DataFrame provides a way to store data in a way that's easily sorted and categorized. \n",
    "# A data frame has three components: (1) index, (2) columns, and (3) values. \n",
    "# A data frame's index is the set of row labels. \n",
    "# A data frame's columns are the labels of the column data. \n",
    "# The data contained in a data frame are also known as values.\n"
   ]
  },
  {
   "cell_type": "markdown",
   "metadata": {},
   "source": [
    "# DataFrame Methods"
   ]
  },
  {
   "cell_type": "code",
   "execution_count": 18,
   "metadata": {},
   "outputs": [
    {
     "data": {
      "text/plain": [
       "Year     1998.500000\n",
       "Value       6.334237\n",
       "dtype: float64"
      ]
     },
     "execution_count": 18,
     "metadata": {},
     "output_type": "execute_result"
    }
   ],
   "source": [
    "# Some DataFrame Methods\n",
    "# How to show the first 5 lines of aa dataframe                           \n",
    "\n",
    "#unemployment.head()\n",
    "unemployment.tail()\n",
    "\n",
    "# describe() method --> Summary statistics for numerical columns\n",
    "# min() and max()\n",
    "# median(), mean(), and std()\n",
    "\n",
    "# example \n",
    "unemployment.describe()\n",
    "unemployment.mean()\n"
   ]
  },
  {
   "cell_type": "markdown",
   "metadata": {},
   "source": [
    "# DataFrame Attributes"
   ]
  },
  {
   "cell_type": "code",
   "execution_count": 19,
   "metadata": {},
   "outputs": [
    {
     "name": "stdout",
     "output_type": "stream",
     "text": [
      "Index(['Year', 'Value'], dtype='object')\n",
      "76\n",
      "(38, 2)\n"
     ]
    }
   ],
   "source": [
    "# DataFramed Attributes and Methods\n",
    "# A DataFrame is an object. An attribute is a characteristic of an object that does not change the object\n",
    "# A method is a procedure associated with an object that can make changes to the object\n",
    "\n",
    "# Some DataFrame Attributes\n",
    "print(unemployment.columns)\n",
    "\n",
    "print(unemployment.size)\n",
    "# total number of value in your dataframe \n",
    "print(unemployment.shape)\n",
    "#how many row and column in the data set \n"
   ]
  },
  {
   "cell_type": "markdown",
   "metadata": {},
   "source": [
    "# Subsetting"
   ]
  },
  {
   "cell_type": "code",
   "execution_count": 22,
   "metadata": {},
   "outputs": [
    {
     "data": {
      "text/html": [
       "<div>\n",
       "<style scoped>\n",
       "    .dataframe tbody tr th:only-of-type {\n",
       "        vertical-align: middle;\n",
       "    }\n",
       "\n",
       "    .dataframe tbody tr th {\n",
       "        vertical-align: top;\n",
       "    }\n",
       "\n",
       "    .dataframe thead th {\n",
       "        text-align: right;\n",
       "    }\n",
       "</style>\n",
       "<table border=\"1\" class=\"dataframe\">\n",
       "  <thead>\n",
       "    <tr style=\"text-align: right;\">\n",
       "      <th></th>\n",
       "      <th>Year</th>\n",
       "      <th>Value</th>\n",
       "    </tr>\n",
       "  </thead>\n",
       "  <tbody>\n",
       "    <tr>\n",
       "      <th>0</th>\n",
       "      <td>1980</td>\n",
       "      <td>7.175</td>\n",
       "    </tr>\n",
       "    <tr>\n",
       "      <th>1</th>\n",
       "      <td>1981</td>\n",
       "      <td>7.617</td>\n",
       "    </tr>\n",
       "    <tr>\n",
       "      <th>2</th>\n",
       "      <td>1982</td>\n",
       "      <td>9.708</td>\n",
       "    </tr>\n",
       "    <tr>\n",
       "      <th>3</th>\n",
       "      <td>1983</td>\n",
       "      <td>9.600</td>\n",
       "    </tr>\n",
       "    <tr>\n",
       "      <th>4</th>\n",
       "      <td>1984</td>\n",
       "      <td>7.508</td>\n",
       "    </tr>\n",
       "    <tr>\n",
       "      <th>5</th>\n",
       "      <td>1985</td>\n",
       "      <td>7.192</td>\n",
       "    </tr>\n",
       "    <tr>\n",
       "      <th>6</th>\n",
       "      <td>1986</td>\n",
       "      <td>7.000</td>\n",
       "    </tr>\n",
       "    <tr>\n",
       "      <th>7</th>\n",
       "      <td>1987</td>\n",
       "      <td>6.175</td>\n",
       "    </tr>\n",
       "    <tr>\n",
       "      <th>8</th>\n",
       "      <td>1988</td>\n",
       "      <td>5.492</td>\n",
       "    </tr>\n",
       "    <tr>\n",
       "      <th>9</th>\n",
       "      <td>1989</td>\n",
       "      <td>5.258</td>\n",
       "    </tr>\n",
       "  </tbody>\n",
       "</table>\n",
       "</div>"
      ],
      "text/plain": [
       "   Year  Value\n",
       "0  1980  7.175\n",
       "1  1981  7.617\n",
       "2  1982  9.708\n",
       "3  1983  9.600\n",
       "4  1984  7.508\n",
       "5  1985  7.192\n",
       "6  1986  7.000\n",
       "7  1987  6.175\n",
       "8  1988  5.492\n",
       "9  1989  5.258"
      ]
     },
     "execution_count": 22,
     "metadata": {},
     "output_type": "execute_result"
    }
   ],
   "source": [
    "# Subsetting is the process of retrieving parts of a data frame. \n",
    "\n",
    "# Selecting a column as a DatafRame\n",
    "#unemployment[['Year']]\n",
    "\n",
    "# Selecting a column as a Pandas' series\n",
    "#unemployment['Year']\n",
    "\n",
    "# selecting rows \n",
    "unemployment[0:10]"
   ]
  },
  {
   "cell_type": "markdown",
   "metadata": {},
   "source": [
    "# Reshaping a DataFrame"
   ]
  },
  {
   "cell_type": "code",
   "execution_count": 27,
   "metadata": {},
   "outputs": [
    {
     "data": {
      "text/html": [
       "<div>\n",
       "<style scoped>\n",
       "    .dataframe tbody tr th:only-of-type {\n",
       "        vertical-align: middle;\n",
       "    }\n",
       "\n",
       "    .dataframe tbody tr th {\n",
       "        vertical-align: top;\n",
       "    }\n",
       "\n",
       "    .dataframe thead th {\n",
       "        text-align: right;\n",
       "    }\n",
       "</style>\n",
       "<table border=\"1\" class=\"dataframe\">\n",
       "  <thead>\n",
       "    <tr style=\"text-align: right;\">\n",
       "      <th>Student</th>\n",
       "      <th>Arushi</th>\n",
       "      <th>Michael</th>\n",
       "      <th>Roberta</th>\n",
       "    </tr>\n",
       "    <tr>\n",
       "      <th>Date</th>\n",
       "      <th></th>\n",
       "      <th></th>\n",
       "      <th></th>\n",
       "    </tr>\n",
       "  </thead>\n",
       "  <tbody>\n",
       "    <tr>\n",
       "      <th>2018-01-03</th>\n",
       "      <td>98</td>\n",
       "      <td>90</td>\n",
       "      <td>92</td>\n",
       "    </tr>\n",
       "    <tr>\n",
       "      <th>2018-01-13</th>\n",
       "      <td>98</td>\n",
       "      <td>90</td>\n",
       "      <td>92</td>\n",
       "    </tr>\n",
       "  </tbody>\n",
       "</table>\n",
       "</div>"
      ],
      "text/plain": [
       "Student     Arushi  Michael  Roberta\n",
       "Date                                \n",
       "2018-01-03      98       90       92\n",
       "2018-01-13      98       90       92"
      ]
     },
     "execution_count": 27,
     "metadata": {},
     "output_type": "execute_result"
    }
   ],
   "source": [
    "# long format and wide format \n",
    "# melt() method --> wide format to long forat \n",
    "# pivot() method --> long format to wide format\n",
    "\n",
    "# let's look at this example to show melt() method\n",
    "# This df is a wide format dataframe \n",
    "\n",
    "df_wide = pd.DataFrame({'Student': {0: \"Michael\", 1: \"Arushi\", 2: \"Roberta\"},\n",
    "                   'SAT': {0: 1480, 1: 1520, 2: 1460}, \n",
    "                    'ACT': {0: 34, 1: 32, 2: 32}}, \n",
    "                     columns=['Student','SAT','ACT'])\n",
    "df_wide\n",
    "\n",
    "# in the melted DF, we'll have three columns, studetns, Test which will have two values: SAT and ACT, and values\n",
    "\n",
    "df_long = pd.melt(df_wide, id_vars = \"Student\", var_name = \"Test\", value_vars = [\"SAT\", \"ACT\"], value_name = \"Scores\")\n",
    "df_long\n",
    "\n",
    "# This example shows how pivot() method works\n",
    "# Creates a data frame\n",
    "df_long = pd.DataFrame({\n",
    "                    'Student': {0: \"Michael\", 1: \"Arushi\", 2: \"Roberta\", \n",
    "                     3: \"Michael\", 4: \"Arushi\", 5: \"Roberta\"},\n",
    "                    'Score': {0: 90, 1: 98, 2: 92, 3: 90, 4: 98, 5: 92}, \n",
    "                    'Date': {0: \"2018-01-03\", 1: \"2018-01-03\", 2: \"2018-01-03\", 3: \"2018-01-13\", \n",
    "                     4: \"2018-01-13\", 5: \"2018-01-13\"}}, \n",
    "                     columns=['Date','Student','Score'])\n",
    "\n",
    "df_long\n",
    "\n",
    "\n",
    "# In the pivoted DF, the index labels are the unique values of the column Date. \n",
    "# The columns of the pivoted data frame are the unique values of the column Student. \n",
    "# The values of the pivoted data frame are the values from the column Score.\n",
    "#b\n",
    "df_long_pivoted = pd.pivot(df_long, index = \"Date\", columns = \"Student\", values= \"Score\")\n",
    "df_long_pivoted\n"
   ]
  },
  {
   "cell_type": "markdown",
   "metadata": {},
   "source": [
    "#  Line Chart"
   ]
  },
  {
   "cell_type": "code",
   "execution_count": 28,
   "metadata": {},
   "outputs": [
    {
     "data": {
      "image/png": "[encoded data removed]",
      "text/plain": [
       "<Figure size 432x288 with 1 Axes>"
      ]
     },
     "metadata": {
      "needs_background": "light"
     },
     "output_type": "display_data"
    }
   ],
   "source": [
    "# A line chart (or line graph) shows data trends by using straight lines to connect successive data points in a scatter plot. \n",
    "# The straight lines show the general direction that data changes over time. \n",
    "# he main benefit of a line graph is to quickly convey whether values are increasing, decreasing, or remaining constant between data points. \n",
    "# Steeper lines indicate more rapid increases or decreases, while flatter lines indicate little change between data points \n",
    "\n",
    "# US Unemployment Rate  \n",
    "# imports the necessary modules\n",
    "import pandas as pd\n",
    "import matplotlib.pyplot as plt\n",
    "\n",
    "# loads the unemployment dataset\n",
    "unemployment = pd.read_csv('http://data-analytics.zybooks.com/unemployment.csv') # A DataFrame\n",
    "                        \n",
    "# title\n",
    "plt.title('U.S. unemployment rate', fontsize = 20)\n",
    "\n",
    "# x and y axis labels\n",
    "plt.xlabel('Year')\n",
    "plt.ylabel('% of total labor force')\n",
    "\n",
    "# plot\n",
    "plt.plot(unemployment[\"Year\"], unemployment[\"Value\"])\n",
    "\n",
    "# saves the image\n",
    "plt.savefig(\"linechart.png\")\n",
    "\n",
    "# shows the image\n",
    "plt.show()"
   ]
  },
  {
   "cell_type": "markdown",
   "metadata": {},
   "source": [
    "# Bar Chart "
   ]
  },
  {
   "cell_type": "code",
   "execution_count": 4,
   "metadata": {},
   "outputs": [
    {
     "data": {
      "image/png": "[encoded data removed]",
      "text/plain": [
       "<Figure size 432x288 with 1 Axes>"
      ]
     },
     "metadata": {},
     "output_type": "display_data"
    }
   ],
   "source": [
    "# A bar chart depicts data values for a categorical variable, using rectangular bars having lengths proportional to category values\n",
    "# a category axis that displays the category names and a value axis that displays the counts\n",
    "\n",
    "# sns.countplot()\n",
    "# \n",
    "\n",
    "# Example: Titanic Dataset \n",
    "\n",
    "# loads the necessary libraries\n",
    "import numpy as np\n",
    "import pandas as pd\n",
    "import matplotlib as mpl\n",
    "import matplotlib.pyplot as plt\n",
    "import seaborn as sns\n",
    "\n",
    "# loads the titanic dataset\n",
    "titanic = sns.load_dataset(\"titanic\")\n",
    "\n",
    "# sets the style of the bar charts\n",
    "sns.set(style=\"whitegrid\", color_codes=True)\n",
    "\n",
    "# title\n",
    "plt.title('Titanic passengers by class', fontsize=20)\n",
    "\n",
    "# plots a vertical bar chart\n",
    "sns.countplot(x=\"class\", color=\"b\", data=titanic);\n",
    "\n",
    "# saves the image\n",
    "plt.savefig(\"verticalbarchart.png\")\n",
    "\n",
    "# show the plot\n",
    "plt.show()\n",
    "\n",
    "#titanic.head()"
   ]
  },
  {
   "cell_type": "markdown",
   "metadata": {},
   "source": [
    "# Grouped Bar Chart"
   ]
  },
  {
   "cell_type": "code",
   "execution_count": 31,
   "metadata": {},
   "outputs": [
    {
     "data": {
      "image/png": "[encoded data removed]",
      "text/plain": [
       "<Figure size 432x288 with 1 Axes>"
      ]
     },
     "metadata": {},
     "output_type": "display_data"
    }
   ],
   "source": [
    "# A grouped bar chart depicts two or more groups on a single bar chart, with each group using a different colored (or shaded) bar.\n",
    "# A legend indicates what group each color represents in a chart.\n",
    "\n",
    "# Example: Titanic Dataset\n",
    "\n",
    "# title\n",
    "plt.title('Titanic survivors and deaths by class', fontsize=20)\n",
    "\n",
    "# plots a grouped bar chart of survivors by class\n",
    "sns.countplot(x=\"class\", hue=\"survived\", color=\"b\", data=titanic);\n",
    "\n",
    "# saves the image\n",
    "plt.savefig(\"groupedbarchart.png\")\n",
    "\n",
    "# show the plot\n",
    "plt.show()"
   ]
  },
  {
   "cell_type": "markdown",
   "metadata": {},
   "source": [
    "# Pie Chart"
   ]
  },
  {
   "cell_type": "code",
   "execution_count": 4,
   "metadata": {},
   "outputs": [
    {
     "data": {
      "image/png": "[encoded data removed]",
      "text/plain": [
       "<Figure size 432x288 with 1 Axes>"
      ]
     },
     "metadata": {},
     "output_type": "display_data"
    }
   ],
   "source": [
    "# A pie chart shows relative frequency for categories using a circle, with each category shown as a slice of appropriate size. \n",
    "# Because length differences are interpreted more precisely than size differences, bar charts are often preferred. \n",
    "# loads the necessary libraries\n",
    "\n",
    "import matplotlib.pyplot as plt\n",
    "slices_hours = [4, 8]\n",
    "activities = ['Sleep', 'Work']\n",
    "colors = ['r', 'g']\n",
    "plt.pie(slices_hours, labels=activities, colors=colors, autopct='%.1f%%')\n",
    "plt.show()\n",
    "\n"
   ]
  },
  {
   "cell_type": "code",
   "execution_count": 38,
   "metadata": {},
   "outputs": [
    {
     "data": {
      "text/html": [
       "<div>\n",
       "<style scoped>\n",
       "    .dataframe tbody tr th:only-of-type {\n",
       "        vertical-align: middle;\n",
       "    }\n",
       "\n",
       "    .dataframe tbody tr th {\n",
       "        vertical-align: top;\n",
       "    }\n",
       "\n",
       "    .dataframe thead th {\n",
       "        text-align: right;\n",
       "    }\n",
       "</style>\n",
       "<table border=\"1\" class=\"dataframe\">\n",
       "  <thead>\n",
       "    <tr style=\"text-align: right;\">\n",
       "      <th></th>\n",
       "      <th>survived</th>\n",
       "      <th>pclass</th>\n",
       "      <th>sex</th>\n",
       "      <th>age</th>\n",
       "      <th>sibsp</th>\n",
       "      <th>parch</th>\n",
       "      <th>fare</th>\n",
       "      <th>embarked</th>\n",
       "      <th>class</th>\n",
       "      <th>who</th>\n",
       "      <th>adult_male</th>\n",
       "      <th>deck</th>\n",
       "      <th>embark_town</th>\n",
       "      <th>alive</th>\n",
       "      <th>alone</th>\n",
       "    </tr>\n",
       "  </thead>\n",
       "  <tbody>\n",
       "    <tr>\n",
       "      <th>0</th>\n",
       "      <td>0</td>\n",
       "      <td>3</td>\n",
       "      <td>male</td>\n",
       "      <td>22.0</td>\n",
       "      <td>1</td>\n",
       "      <td>0</td>\n",
       "      <td>7.2500</td>\n",
       "      <td>S</td>\n",
       "      <td>Third</td>\n",
       "      <td>man</td>\n",
       "      <td>True</td>\n",
       "      <td>NaN</td>\n",
       "      <td>Southampton</td>\n",
       "      <td>no</td>\n",
       "      <td>False</td>\n",
       "    </tr>\n",
       "    <tr>\n",
       "      <th>1</th>\n",
       "      <td>1</td>\n",
       "      <td>1</td>\n",
       "      <td>female</td>\n",
       "      <td>38.0</td>\n",
       "      <td>1</td>\n",
       "      <td>0</td>\n",
       "      <td>71.2833</td>\n",
       "      <td>C</td>\n",
       "      <td>First</td>\n",
       "      <td>woman</td>\n",
       "      <td>False</td>\n",
       "      <td>C</td>\n",
       "      <td>Cherbourg</td>\n",
       "      <td>yes</td>\n",
       "      <td>False</td>\n",
       "    </tr>\n",
       "    <tr>\n",
       "      <th>2</th>\n",
       "      <td>1</td>\n",
       "      <td>3</td>\n",
       "      <td>female</td>\n",
       "      <td>26.0</td>\n",
       "      <td>0</td>\n",
       "      <td>0</td>\n",
       "      <td>7.9250</td>\n",
       "      <td>S</td>\n",
       "      <td>Third</td>\n",
       "      <td>woman</td>\n",
       "      <td>False</td>\n",
       "      <td>NaN</td>\n",
       "      <td>Southampton</td>\n",
       "      <td>yes</td>\n",
       "      <td>True</td>\n",
       "    </tr>\n",
       "    <tr>\n",
       "      <th>3</th>\n",
       "      <td>1</td>\n",
       "      <td>1</td>\n",
       "      <td>female</td>\n",
       "      <td>35.0</td>\n",
       "      <td>1</td>\n",
       "      <td>0</td>\n",
       "      <td>53.1000</td>\n",
       "      <td>S</td>\n",
       "      <td>First</td>\n",
       "      <td>woman</td>\n",
       "      <td>False</td>\n",
       "      <td>C</td>\n",
       "      <td>Southampton</td>\n",
       "      <td>yes</td>\n",
       "      <td>False</td>\n",
       "    </tr>\n",
       "    <tr>\n",
       "      <th>4</th>\n",
       "      <td>0</td>\n",
       "      <td>3</td>\n",
       "      <td>male</td>\n",
       "      <td>35.0</td>\n",
       "      <td>0</td>\n",
       "      <td>0</td>\n",
       "      <td>8.0500</td>\n",
       "      <td>S</td>\n",
       "      <td>Third</td>\n",
       "      <td>man</td>\n",
       "      <td>True</td>\n",
       "      <td>NaN</td>\n",
       "      <td>Southampton</td>\n",
       "      <td>no</td>\n",
       "      <td>True</td>\n",
       "    </tr>\n",
       "  </tbody>\n",
       "</table>\n",
       "</div>"
      ],
      "text/plain": [
       "   survived  pclass     sex   age  sibsp  parch     fare embarked  class  \\\n",
       "0         0       3    male  22.0      1      0   7.2500        S  Third   \n",
       "1         1       1  female  38.0      1      0  71.2833        C  First   \n",
       "2         1       3  female  26.0      0      0   7.9250        S  Third   \n",
       "3         1       1  female  35.0      1      0  53.1000        S  First   \n",
       "4         0       3    male  35.0      0      0   8.0500        S  Third   \n",
       "\n",
       "     who  adult_male deck  embark_town alive  alone  \n",
       "0    man        True  NaN  Southampton    no  False  \n",
       "1  woman       False    C    Cherbourg   yes  False  \n",
       "2  woman       False  NaN  Southampton   yes   True  \n",
       "3  woman       False    C  Southampton   yes  False  \n",
       "4    man        True  NaN  Southampton    no   True  "
      ]
     },
     "execution_count": 38,
     "metadata": {},
     "output_type": "execute_result"
    }
   ],
   "source": [
    "import matplotlib.pyplot as plt\n",
    "import seaborn as sns\n",
    "\n",
    "# loads the titanic dataset\n",
    "Titanic = sns.load_dataset(\"titanic\")\n",
    "Titanic.head()\n"
   ]
  },
  {
   "cell_type": "code",
   "execution_count": 12,
   "metadata": {},
   "outputs": [
    {
     "data": {
      "image/png": "[encoded data removed]",
      "text/plain": [
       "<Figure size 432x288 with 1 Axes>"
      ]
     },
     "metadata": {},
     "output_type": "display_data"
    }
   ],
   "source": [
    "# loads the necessary libraries\n",
    "import matplotlib.pyplot as plt\n",
    "import seaborn as sns\n",
    "\n",
    "# loads the titanic dataset\n",
    "df = sns.load_dataset(\"titanic\")\n",
    "\n",
    "# counts the number of passengers for each class\n",
    "a = df[df.pclass == 1][\"pclass\"].count()\n",
    "b = df[df.pclass == 2][\"pclass\"].count()\n",
    "c = df[df.pclass == 3][\"pclass\"].count()\n",
    "\n",
    "# data to plot\n",
    "labels = 'First', 'Second', 'Third'\n",
    "sizes = [a, b, c]\n",
    "\n",
    "\n",
    "explodeTuple = (0.0, 0.0, 0.4)\n",
    "\n",
    "\n",
    "# plot\n",
    "# autopct is an optional parameter that indicates the number of decimal places of the percent labels. \n",
    "# Ex: %1.1f%% means that the labels in the pie chart will have one decimal place with the percent symbol.\n",
    "plt.pie(sizes, labels=labels, autopct='%1.1f%%', explode= explodeTuple)\n",
    "\n",
    "# title\n",
    "plt.title('Titanic passengers by class', fontsize=20)\n",
    "\n",
    "# legend\n",
    "#patches, texts = plt.pie(sizes)\n",
    "#plt.legend(patches, labels, loc=\"lower right\")\n",
    "\n",
    "# produces a perfectly circular chart\n",
    "#plt.axis('equal')\n",
    "\n",
    "# saves the image\n",
    "plt.savefig(\"piechart.png\")\n",
    "plt.show()\n"
   ]
  },
  {
   "cell_type": "markdown",
   "metadata": {},
   "source": [
    "# Exploded Pie Chart"
   ]
  },
  {
   "cell_type": "code",
   "execution_count": null,
   "metadata": {
    "collapsed": true
   },
   "outputs": [],
   "source": [
    "# An exploded pie chart is a pie chart with one or more slices separated from the rest of the pie. \n",
    "# By exploding a pie chart, the exploded pieces are emphasized. \n",
    "# In practice, the most important category - usually the category with the largest count or percentage - is often exploded"
   ]
  },
  {
   "cell_type": "code",
   "execution_count": 45,
   "metadata": {},
   "outputs": [
    {
     "data": {
      "image/png": "[encoded data removed]",
      "text/plain": [
       "<Figure size 432x288 with 1 Axes>"
      ]
     },
     "metadata": {},
     "output_type": "display_data"
    }
   ],
   "source": [
    "# data to plot\n",
    "a = df[df.survived == 1][\"survived\"].count()\n",
    "b = df[df.survived == 0][\"survived\"].count()\n",
    "\n",
    "# creates a tuple of the categories\n",
    "explodeTuple = (0.0, 0.4)\n",
    "\n",
    "# data to plot\n",
    "labels = 'Survived', 'Did not survive'\n",
    "sizes = [a, b]\n",
    "\n",
    "# plot\n",
    "plt.pie(sizes, labels=labels, autopct='%1.1f%%', explode = explodeTuple)\n",
    "\n",
    "# title\n",
    "plt.title('Survivors of the Titanic', fontsize=20)\n",
    "\n",
    "# produces a perfectly circular chart\n",
    "plt.axis('equal')\n",
    "\n",
    "# saves the image\n",
    "plt.savefig(\"explodedpiechart.png\")\n",
    "plt.show()"
   ]
  },
  {
   "cell_type": "markdown",
   "metadata": {},
   "source": [
    "# Scatter Plot"
   ]
  },
  {
   "cell_type": "code",
   "execution_count": 55,
   "metadata": {},
   "outputs": [
    {
     "data": {
      "image/png": "[encoded data removed]",
      "text/plain": [
       "<Figure size 432x288 with 1 Axes>"
      ]
     },
     "metadata": {},
     "output_type": "display_data"
    }
   ],
   "source": [
    "# A scatter plot shows the relationship between two variables on a two dimentional raph, where each axis corresponds to one variable.\n",
    "# Scatter plots are used for both quantitative and categorical data.\n",
    "\n",
    "# Dependent and Independent Variables \n",
    "# Dependent Variable: The variable that is  determined based on other variable/variables is the dependent variable.\n",
    "# Independent Variable:  The variable that is controlled by an observer or is a reason for variation is the independent variable\n",
    "\n",
    "\n",
    "# Regression Curve \n",
    "# A regression curve is a curve added to a scatter plot that shows the relationship between two variables. \n",
    "# A linear regression curve is also called a regression line or a trend line.\n",
    "\n",
    "\n",
    "# First Example \n",
    "# loads the necessary libraries\n",
    "import matplotlib.pyplot as plt\n",
    "import seaborn as sns\n",
    "\n",
    "# loads the iris dataset\n",
    "df = sns.load_dataset(\"iris\")\n",
    "\n",
    "df. head()\n",
    "\n",
    "# title\n",
    "plt.title('Petal length and width of iris', fontsize=20)\n",
    "\n",
    "# plot\n",
    "sns.regplot(df[\"petal_length\"], df[\"petal_width\"], fit_reg=False);\n",
    "\n",
    "# saves the image\n",
    "#plt.savefig(\"irisscatterplot.png\")\n",
    "\n",
    "# show the plot \n",
    "plt.show()"
   ]
  },
  {
   "cell_type": "code",
   "execution_count": null,
   "metadata": {},
   "outputs": [],
   "source": [
    "read as panda serie, read_csv(Squeeze = \"True\")\n",
    "#sque\n"
   ]
  },
  {
   "cell_type": "code",
   "execution_count": null,
   "metadata": {
    "collapsed": true
   },
   "outputs": [],
   "source": [
    "#inplace = True - change made will be also change in the original panda series "
   ]
  },
  {
   "cell_type": "code",
   "execution_count": null,
   "metadata": {
    "collapsed": true
   },
   "outputs": [],
   "source": [
    "#Sort_index = sort by index \n",
    "\"value\" in titanic_Names_seie.values\n",
    "# Search through the values  \n",
    "# extracting \n",
    "# .get() geeting value base on index you pass into it\n",
    "# Change the parameter so you would see the does not exist\n",
    "\n",
    "boy.get(\"kiki\", defeaut = 'does not exist')\n",
    "# value_counts() find the unique value and count their frequencies \n",
    "\n",
    "# Use function \n",
    "Google_Stock_classes = Google.apply(function_name)\n",
    "# Add 10 dollars to every single values \n",
    "Google.apply(lamba Google_Stock_classes + 10)\n"
   ]
  }
 ],
 "metadata": {
  "kernelspec": {
   "display_name": "Python 3",
   "language": "python",
   "name": "python3"
  },
  "language_info": {
   "codemirror_mode": {
    "name": "ipython",
    "version": 3
   },
   "file_extension": ".py",
   "mimetype": "text/x-python",
   "name": "python",
   "nbconvert_exporter": "python",
   "pygments_lexer": "ipython3",
   "version": "3.8.8"
  }
 },
 "nbformat": 4,
 "nbformat_minor": 2
}
