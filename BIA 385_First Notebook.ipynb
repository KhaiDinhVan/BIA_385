{
 "cells": [
  {
   "cell_type": "code",
   "execution_count": 1,
   "id": "523baf26",
   "metadata": {},
   "outputs": [
    {
     "name": "stdout",
     "output_type": "stream",
     "text": [
      "Welcome to Python for Data Analytics Course\n"
     ]
    }
   ],
   "source": [
    "print(\"Welcome to Python for Data Analytics Course\")"
   ]
  },
  {
   "cell_type": "code",
   "execution_count": 3,
   "id": "737340b0",
   "metadata": {},
   "outputs": [
    {
     "name": "stdout",
     "output_type": "stream",
     "text": [
      "the answer is 70\n"
     ]
    }
   ],
   "source": [
    "x = 20\n",
    "y = 50\n",
    "z = x + y\n",
    "print(\"the answer is\", z)"
   ]
  },
  {
   "cell_type": "code",
   "execution_count": 4,
   "id": "4526527d",
   "metadata": {},
   "outputs": [
    {
     "data": {
      "text/plain": [
       "'C:\\\\Users\\\\dinhv'"
      ]
     },
     "execution_count": 4,
     "metadata": {},
     "output_type": "execute_result"
    }
   ],
   "source": [
    "import os\n",
    "os.getcwd()"
   ]
  },
  {
   "cell_type": "code",
   "execution_count": 6,
   "id": "586c4dc0",
   "metadata": {},
   "outputs": [
    {
     "name": "stdout",
     "output_type": "stream",
     "text": [
      "total salary is: 18000\n"
     ]
    }
   ],
   "source": [
    "weeks = 30\n",
    "hours = 40\n",
    "wage = 15\n",
    "salary = weeks * hours * wage \n",
    "\n",
    "print('total salary is:', salary )"
   ]
  },
  {
   "cell_type": "code",
   "execution_count": 7,
   "id": "9c1397b4",
   "metadata": {},
   "outputs": [
    {
     "name": "stdout",
     "output_type": "stream",
     "text": [
      "Please enter the number of weeks you worked: 30\n",
      "Please enter the number of hours you worked per week: 40\n",
      "Please enter the number of wage: 20\n",
      "24000\n"
     ]
    }
   ],
   "source": [
    "# input () get value from user \n",
    "# int() the value input must be a number not a string \n",
    "weeks = int(input('Please enter the number of weeks you worked: '))\n",
    "hours = int(input('Please enter the number of hours you worked per week: '))\n",
    "wage = int(input('Please enter the number of wage: '))\n",
    "salary = weeks * hours * wage \n",
    "print(salary)"
   ]
  },
  {
   "cell_type": "code",
   "execution_count": 8,
   "id": "a1a49552",
   "metadata": {},
   "outputs": [],
   "source": [
    "#\\n new lines put in the print statement \"***\\n\""
   ]
  },
  {
   "cell_type": "code",
   "execution_count": 12,
   "id": "84fa4c2b",
   "metadata": {},
   "outputs": [
    {
     "name": "stdout",
     "output_type": "stream",
     "text": [
      "Hello there My name is Ellie\n"
     ]
    }
   ],
   "source": [
    "#end = '' cut the new line between print statement\n",
    "print('Hello there ', end = '')\n",
    "print('My name is Ellie')"
   ]
  },
  {
   "cell_type": "code",
   "execution_count": null,
   "id": "ef3a2204",
   "metadata": {},
   "outputs": [],
   "source": [
    "# float\n"
   ]
  },
  {
   "cell_type": "code",
   "execution_count": 2,
   "id": "62a16ba7",
   "metadata": {},
   "outputs": [
    {
     "name": "stdout",
     "output_type": "stream",
     "text": [
      "Enter minutes:\n",
      "80\n",
      "80 minutes is 1 hours and 20 minutes.\n",
      " "
     ]
    }
   ],
   "source": [
    "minutes = int(input('Enter minutes:\\n'))\n",
    "hours = minutes // 60\n",
    "minutes_remaining = minutes % 60\n",
    "\n",
    "print(minutes, 'minutes is', end=' ')\n",
    "print(hours, 'hours and', end=' ')\n",
    "print(minutes_remaining, 'minutes.\\n', end=' ')"
   ]
  },
  {
   "cell_type": "code",
   "execution_count": 8,
   "id": "80adf6ad",
   "metadata": {},
   "outputs": [
    {
     "name": "stdout",
     "output_type": "stream",
     "text": [
      "Enter hours:\n",
      "1\n",
      "Enter minutes:\n",
      "12\n",
      "1 hours and 12 minutes is 72 minutes\n"
     ]
    }
   ],
   "source": [
    "hours = int(input('Enter hours:\\n'))\n",
    "minutes = int(input('Enter minutes:\\n'))\n",
    "minutes_converter = hours * 60\n",
    "total_hours = minutes_converter + minutes\n",
    "\n",
    "print(hours,'hours and', minutes,'minutes is', end=' ')\n",
    "print(total_hours, 'minutes')\n",
    "\n"
   ]
  },
  {
   "cell_type": "code",
   "execution_count": null,
   "id": "0425cc70",
   "metadata": {},
   "outputs": [],
   "source": [
    "current_time = '2020-07-26 02:12:18:'\n",
    "\n",
    "my_city = input()\n",
    "my_state = input()\n",
    "log_entry = current_time + ' ' + my_city + ' ' +  my_state\n",
    "\n",
    "print(log_entry)"
   ]
  }
 ],
 "metadata": {
  "kernelspec": {
   "display_name": "Python 3",
   "language": "python",
   "name": "python3"
  },
  "language_info": {
   "codemirror_mode": {
    "name": "ipython",
    "version": 3
   },
   "file_extension": ".py",
   "mimetype": "text/x-python",
   "name": "python",
   "nbconvert_exporter": "python",
   "pygments_lexer": "ipython3",
   "version": "3.8.8"
  }
 },
 "nbformat": 4,
 "nbformat_minor": 5
}
